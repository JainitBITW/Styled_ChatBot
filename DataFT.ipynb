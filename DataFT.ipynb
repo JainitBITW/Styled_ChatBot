{
 "cells": [
  {
   "cell_type": "code",
   "execution_count": 2,
   "metadata": {},
   "outputs": [],
   "source": [
    "from torch.utils.data import Dataset, DataLoader\n",
    "import json\n",
    "\n",
    "\n"
   ]
  },
  {
   "cell_type": "code",
   "execution_count": 3,
   "metadata": {},
   "outputs": [],
   "source": [
    "data = []\n",
    "with open('datasets/The_Big_Bang_Theory.merged.json') as f:\n",
    "    for line in f: \n",
    "        data.append(json.loads(line))\n"
   ]
  },
  {
   "cell_type": "code",
   "execution_count": 4,
   "metadata": {},
   "outputs": [
    {
     "data": {
      "text/plain": [
       "[['sheldon',\n",
       "  \"Sheldon: So if a photon is directed through a plane with two slits in it and either slit is observed it will not go through both slits. If it's unobserved it will, however, if it's observed after it's left the plane but before it hits its target, it will not have gone through both slits.\"],\n",
       " ['leonard', \"Leonard: Agreed, what's your point?\"],\n",
       " ['sheldon',\n",
       "  \"Sheldon: There's no point, I just think it's a good idea for a tee-shirt.\"],\n",
       " ['leonard (to receptionist)', 'Leonard (to receptionist): Excuse me?'],\n",
       " ['receptionist (pondering a crossword)',\n",
       "  'Receptionist (pondering a crossword): Hang on.'],\n",
       " ['background', '(Long pause)'],\n",
       " ['leonard',\n",
       "  \"Leonard: One across is Aegean, eight down is Nabakov, twenty-six across is MCM, fourteen down is... move your finger... phylum, which makes fourteen across Port-au-Prince. See, Papa Doc's capital idea, that's Port-au-Prince. Haiti.\"],\n",
       " ['receptionist', 'Receptionist: Can I help you?'],\n",
       " ['leonard', 'Leonard: Yes. Um, is this the... High IQ sperm bank?'],\n",
       " ['receptionist',\n",
       "  \"Receptionist: If you have to ask, maybe you shouldn't be here.\"],\n",
       " ['sheldon', 'Sheldon: I think this is the place.'],\n",
       " ['receptionist', 'Receptionist: Fill these out.'],\n",
       " ['leonard', \"Leonard: Thank-you. We'll be right back.\"],\n",
       " ['receptionist',\n",
       "  \"Receptionist: Oh, take your time. I'll just finish my crossword puzzle. Oh wait.\"],\n",
       " ['background', '(They sit and begin to fill in forms).'],\n",
       " ['sheldon', \"Sheldon: Leonard, I don't think I can do this.\"],\n",
       " ['leonard', \"Leonard: What, are you kidding? You're a semi-pro.\"],\n",
       " ['sheldon',\n",
       "  \"Sheldon: No. We are committing genetic fraud. There's no guarantee that our sperm is going to generate high IQ offspring, think about that. I have a sister with the same basic DNA mix who hostesses at Fuddruckers.\"],\n",
       " ['leonard',\n",
       "  'Leonard: Sheldon, this was your idea. A little extra money to get fractional T1 bandwidth in the apartment.'],\n",
       " ['sheldon',\n",
       "  \"Sheldon: I know, and I do yearn for faster downloads, but there's some poor woman is going to pin her hopes on my sperm, what if she winds up with a toddler who doesn't know if he should use an integral or a differential to solve the area under a curve.\"],\n",
       " ['leonard', \"Leonard: I'm sure she'll still love him.\"],\n",
       " ['sheldon', \"Sheldon: I wouldn't.\"],\n",
       " ['leonard', 'Leonard: Well, what do you want to do?'],\n",
       " ['sheldon', 'Sheldon: I want to leave.'],\n",
       " ['leonard', 'Leonard: Okay.'],\n",
       " ['sheldon', \"Sheldon: What's the protocol for leaving?\"],\n",
       " ['leonard',\n",
       "  \"Leonard: I don't know, I've never reneged on a proffer of sperm before.\"],\n",
       " ['sheldon', \"Sheldon: Let's try just walking out.\"],\n",
       " ['leonard', 'Leonard: Okay.'],\n",
       " ['background',\n",
       "  '(They slowly put down their forms, get up, and head towards the door.)'],\n",
       " ['receptionist (not looking up)', 'Receptionist (not looking up): Bye.'],\n",
       " ['together', 'Together: Bye-bye/see you.']]"
      ]
     },
     "execution_count": 4,
     "metadata": {},
     "output_type": "execute_result"
    }
   ],
   "source": [
    "data[0]['lines']\n"
   ]
  },
  {
   "cell_type": "code",
   "execution_count": null,
   "metadata": {},
   "outputs": [],
   "source": []
  }
 ],
 "metadata": {
  "kernelspec": {
   "display_name": "torchy",
   "language": "python",
   "name": "python3"
  },
  "language_info": {
   "codemirror_mode": {
    "name": "ipython",
    "version": 3
   },
   "file_extension": ".py",
   "mimetype": "text/x-python",
   "name": "python",
   "nbconvert_exporter": "python",
   "pygments_lexer": "ipython3",
   "version": "3.10.9"
  },
  "orig_nbformat": 4
 },
 "nbformat": 4,
 "nbformat_minor": 2
}
