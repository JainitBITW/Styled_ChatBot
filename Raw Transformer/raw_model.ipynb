{
 "cells": [
  {
   "cell_type": "code",
   "execution_count": 6,
   "metadata": {},
   "outputs": [],
   "source": [
    "# pip3 insall torch\n",
    "# pip3 install transformers\n",
    "\n",
    "\n",
    "from transformers import pipeline, set_seed\n",
    "import torch"
   ]
  },
  {
   "cell_type": "code",
   "execution_count": 7,
   "metadata": {},
   "outputs": [
    {
     "name": "stdout",
     "output_type": "stream",
     "text": [
      "cuda\n"
     ]
    }
   ],
   "source": [
    "# set device to cuda else cpu\n",
    "device = torch.device(\"cuda\" if torch.cuda.is_available() else \"cpu\")\n",
    "print(\"Using device:\", device)"
   ]
  },
  {
   "cell_type": "code",
   "execution_count": 9,
   "metadata": {},
   "outputs": [
    {
     "name": "stderr",
     "output_type": "stream",
     "text": [
      "Setting `pad_token_id` to `eos_token_id`:50256 for open-end generation.\n"
     ]
    },
    {
     "data": {
      "text/plain": [
       "[{'generated_text': 'I love you, I hope you love me,\" she said, and then she kissed him back. She reached down and put her hand on his shoulder. \"So many wonderful things about you -- not many, but many,\" she said. \"You'},\n",
       " {'generated_text': 'I love you!\"\\n\\nA/N: I got a bunch of questions regarding how we came up with the lyrics for this particular episode of Supergirl, and I am working on an answer to each one (I\\'m really really sorry about that'},\n",
       " {'generated_text': 'I love you,\" said the girl, who looked older than her five-year-old sister. \"Are you married?\"\\n\\n\"I can answer,\" said the girl, who turned away at the table. \"What about you?\" she asked'},\n",
       " {'generated_text': \"I love you a lot, we love you! A lot, we love you! #Nomad #Atheist\\n\\n[via Reddit]\\n\\nPreviously on this year's show:\\n\\nWhat's The Most Popular Song On Beyon\"},\n",
       " {'generated_text': 'I love you, my darling, but I\\'d like to have had you.\" It was so sweet now. I hadn\\'t felt so love in months that I had let my heart get so much in his face before he came in to kiss me.'}]"
      ]
     },
     "execution_count": 9,
     "metadata": {},
     "output_type": "execute_result"
    }
   ],
   "source": [
    "MAX_LENGTH = 50 \n",
    "NUM_OUTPUT_SENTENCES = 5\n",
    "SEED = 42\n",
    "\n",
    "\n",
    "generator = pipeline('text-generation', model='gpt2')\n",
    "set_seed(SEED)\n",
    "generator(\"I love you\", max_length=MAX_LENGTH, num_return_sequences=NUM_OUTPUT_SENTENCES)\n"
   ]
  },
  {
   "cell_type": "code",
   "execution_count": null,
   "metadata": {},
   "outputs": [],
   "source": []
  }
 ],
 "metadata": {
  "kernelspec": {
   "display_name": "Python 3",
   "language": "python",
   "name": "python3"
  },
  "language_info": {
   "codemirror_mode": {
    "name": "ipython",
    "version": 3
   },
   "file_extension": ".py",
   "mimetype": "text/x-python",
   "name": "python",
   "nbconvert_exporter": "python",
   "pygments_lexer": "ipython3",
   "version": "3.10.7"
  },
  "orig_nbformat": 4
 },
 "nbformat": 4,
 "nbformat_minor": 2
}
